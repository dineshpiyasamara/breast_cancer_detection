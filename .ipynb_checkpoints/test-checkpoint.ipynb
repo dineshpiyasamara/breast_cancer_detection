{
 "cells": [
  {
   "cell_type": "code",
   "execution_count": 3,
   "metadata": {},
   "outputs": [
    {
     "ename": "TypeError",
     "evalue": "'NoneType' object is not iterable",
     "output_type": "error",
     "traceback": [
      "\u001b[1;31m---------------------------------------------------------------------------\u001b[0m",
      "\u001b[1;31mTypeError\u001b[0m                                 Traceback (most recent call last)",
      "\u001b[1;32mc:\\Users\\Dinesh-AIZENIT\\Desktop\\breast_cancer_detection\\test.ipynb Cell 1\u001b[0m line \u001b[0;36m4\n\u001b[0;32m      <a href='vscode-notebook-cell:/c%3A/Users/Dinesh-AIZENIT/Desktop/breast_cancer_detection/test.ipynb#W0sZmlsZQ%3D%3D?line=0'>1</a>\u001b[0m \u001b[39mfrom\u001b[39;00m \u001b[39mucimlrepo\u001b[39;00m \u001b[39mimport\u001b[39;00m fetch_ucirepo \n\u001b[0;32m      <a href='vscode-notebook-cell:/c%3A/Users/Dinesh-AIZENIT/Desktop/breast_cancer_detection/test.ipynb#W0sZmlsZQ%3D%3D?line=2'>3</a>\u001b[0m \u001b[39m# fetch dataset \u001b[39;00m\n\u001b[1;32m----> <a href='vscode-notebook-cell:/c%3A/Users/Dinesh-AIZENIT/Desktop/breast_cancer_detection/test.ipynb#W0sZmlsZQ%3D%3D?line=3'>4</a>\u001b[0m breast_cancer_wisconsin_original \u001b[39m=\u001b[39m fetch_ucirepo(\u001b[39mid\u001b[39;49m\u001b[39m=\u001b[39;49m\u001b[39m15\u001b[39;49m) \n\u001b[0;32m      <a href='vscode-notebook-cell:/c%3A/Users/Dinesh-AIZENIT/Desktop/breast_cancer_detection/test.ipynb#W0sZmlsZQ%3D%3D?line=5'>6</a>\u001b[0m \u001b[39m# data (as pandas dataframes) \u001b[39;00m\n\u001b[0;32m      <a href='vscode-notebook-cell:/c%3A/Users/Dinesh-AIZENIT/Desktop/breast_cancer_detection/test.ipynb#W0sZmlsZQ%3D%3D?line=6'>7</a>\u001b[0m X \u001b[39m=\u001b[39m breast_cancer_wisconsin_original\u001b[39m.\u001b[39mdata\u001b[39m.\u001b[39mfeatures \n",
      "File \u001b[1;32mc:\\Users\\Dinesh-AIZENIT\\Desktop\\breast_cancer_detection\\env\\Lib\\site-packages\\ucimlrepo\\fetch.py:148\u001b[0m, in \u001b[0;36mfetch_ucirepo\u001b[1;34m(name, id)\u001b[0m\n\u001b[0;32m    142\u001b[0m \u001b[39m# alternative usage?: \u001b[39;00m\n\u001b[0;32m    143\u001b[0m \u001b[39m# variables.age.role or variables.slope.description\u001b[39;00m\n\u001b[0;32m    144\u001b[0m \u001b[39m# print(variables) -> json-like dict with keys [name] -> details\u001b[39;00m\n\u001b[0;32m    145\u001b[0m \n\u001b[0;32m    146\u001b[0m \u001b[39m# make nested metadata fields accessible via dot notation\u001b[39;00m\n\u001b[0;32m    147\u001b[0m metadata[\u001b[39m'\u001b[39m\u001b[39madditional_info\u001b[39m\u001b[39m'\u001b[39m] \u001b[39m=\u001b[39m dotdict(metadata[\u001b[39m'\u001b[39m\u001b[39madditional_info\u001b[39m\u001b[39m'\u001b[39m])\n\u001b[1;32m--> 148\u001b[0m metadata[\u001b[39m'\u001b[39m\u001b[39mintro_paper\u001b[39m\u001b[39m'\u001b[39m] \u001b[39m=\u001b[39m dotdict(metadata[\u001b[39m'\u001b[39;49m\u001b[39mintro_paper\u001b[39;49m\u001b[39m'\u001b[39;49m])\n\u001b[0;32m    150\u001b[0m \u001b[39m# construct result object\u001b[39;00m\n\u001b[0;32m    151\u001b[0m result \u001b[39m=\u001b[39m {\n\u001b[0;32m    152\u001b[0m     \u001b[39m'\u001b[39m\u001b[39mdata\u001b[39m\u001b[39m'\u001b[39m: dotdict(data),\n\u001b[0;32m    153\u001b[0m     \u001b[39m'\u001b[39m\u001b[39mmetadata\u001b[39m\u001b[39m'\u001b[39m: dotdict(metadata),\n\u001b[0;32m    154\u001b[0m     \u001b[39m'\u001b[39m\u001b[39mvariables\u001b[39m\u001b[39m'\u001b[39m: variables\n\u001b[0;32m    155\u001b[0m }\n",
      "\u001b[1;31mTypeError\u001b[0m: 'NoneType' object is not iterable"
     ]
    }
   ],
   "source": [
    "from ucimlrepo import fetch_ucirepo \n",
    "  \n",
    "# fetch dataset \n",
    "breast_cancer_wisconsin_original = fetch_ucirepo(id=15) \n",
    "  \n",
    "# data (as pandas dataframes) \n",
    "X = breast_cancer_wisconsin_original.data.features \n",
    "y = breast_cancer_wisconsin_original.data.targets "
   ]
  },
  {
   "cell_type": "code",
   "execution_count": null,
   "metadata": {},
   "outputs": [],
   "source": [
    "# metadata \n",
    "print(breast_cancer_wisconsin_original.metadata)"
   ]
  },
  {
   "cell_type": "code",
   "execution_count": null,
   "metadata": {},
   "outputs": [],
   "source": [
    "# variable information \n",
    "print(breast_cancer_wisconsin_original.variables) "
   ]
  }
 ],
 "metadata": {
  "kernelspec": {
   "display_name": "env",
   "language": "python",
   "name": "python3"
  },
  "language_info": {
   "codemirror_mode": {
    "name": "ipython",
    "version": 3
   },
   "file_extension": ".py",
   "mimetype": "text/x-python",
   "name": "python",
   "nbconvert_exporter": "python",
   "pygments_lexer": "ipython3",
   "version": "3.11.3"
  },
  "orig_nbformat": 4
 },
 "nbformat": 4,
 "nbformat_minor": 2
}
